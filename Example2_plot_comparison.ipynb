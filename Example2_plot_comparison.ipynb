{
 "cells": [
  {
   "cell_type": "markdown",
   "metadata": {},
   "source": [
    "# Plot a comparison of properties"
   ]
  },
  {
   "cell_type": "markdown",
   "metadata": {},
   "source": [
    "### Import python modules (install these if you dont have them)"
   ]
  },
  {
   "cell_type": "code",
   "execution_count": 1,
   "metadata": {},
   "outputs": [],
   "source": [
    "#External Python Packages\n",
    "import pandas as pd\n",
    "import matplotlib.pyplot as plt\n",
    "import numpy as np\n",
    "import sys\n",
    "import os\n",
    "import importlib\n",
    "\n",
    "#Add 'functions' folder to notebook directory\n",
    "cwd = os.getcwd()\n",
    "fn_dir = cwd + '/functions'\n",
    "sys.path.append(fn_dir)\n",
    "\n",
    "#Functions in 'functions' folder\n",
    "import fn_sql\n",
    "import fn_doi2bib\n",
    "import fn_insert\n",
    "import fn_getfile\n",
    "import fn_db"
   ]
  },
  {
   "cell_type": "markdown",
   "metadata": {},
   "source": [
    "### Initiate database connection"
   ]
  },
  {
   "cell_type": "code",
   "execution_count": 2,
   "metadata": {},
   "outputs": [],
   "source": [
    "db_connection = {\n",
    "    'address' : 'dfn-parameters.postgres.database.azure.com',\n",
    "    'port' : '5432',\n",
    "    'username' : 'testuser@dfn-parameters',\n",
    "    'password' : 'testuserpassword',\n",
    "    'dbname' : 'dfndb',\n",
    "}\n",
    "\n",
    "db_connection = fn_sql.sqlalchemy_connect(db_connection) #Make connection\n",
    "dfndb = db_connection['dbobject']"
   ]
  },
  {
   "cell_type": "markdown",
   "metadata": {},
   "source": [
    "### 1. Plot a query of a single property:\n",
    "\n",
    "Here we find a SINGLE PROPERTY - the transference number of an FEC containing electrolyte, from the Landesfeind paper"
   ]
  },
  {
   "cell_type": "code",
   "execution_count": 3,
   "metadata": {},
   "outputs": [
    {
     "data": {
      "text/html": [
       "<div>\n",
       "<style scoped>\n",
       "    .dataframe tbody tr th:only-of-type {\n",
       "        vertical-align: middle;\n",
       "    }\n",
       "\n",
       "    .dataframe tbody tr th {\n",
       "        vertical-align: top;\n",
       "    }\n",
       "\n",
       "    .dataframe thead th {\n",
       "        text-align: right;\n",
       "    }\n",
       "</style>\n",
       "<table border=\"1\" class=\"dataframe\">\n",
       "  <thead>\n",
       "    <tr style=\"text-align: right;\">\n",
       "      <th></th>\n",
       "      <th>data_id</th>\n",
       "      <th>name</th>\n",
       "      <th>name</th>\n",
       "      <th>paper_tag</th>\n",
       "      <th>temp_range</th>\n",
       "      <th>function</th>\n",
       "    </tr>\n",
       "  </thead>\n",
       "  <tbody>\n",
       "    <tr>\n",
       "      <th>0</th>\n",
       "      <td>118</td>\n",
       "      <td>Transference Number</td>\n",
       "      <td>LiPF6:EMC:FEC 19:1</td>\n",
       "      <td>Landesfeind2019</td>\n",
       "      <td>[263, 323]</td>\n",
       "      <td>[b'\\n', b'd', b'e', b'f', b' ', b'f', b'u', b'...</td>\n",
       "    </tr>\n",
       "  </tbody>\n",
       "</table>\n",
       "</div>"
      ],
      "text/plain": [
       "   data_id                 name                name        paper_tag  \\\n",
       "0      118  Transference Number  LiPF6:EMC:FEC 19:1  Landesfeind2019   \n",
       "\n",
       "   temp_range                                           function  \n",
       "0  [263, 323]  [b'\\n', b'd', b'e', b'f', b' ', b'f', b'u', b'...  "
      ]
     },
     "execution_count": 3,
     "metadata": {},
     "output_type": "execute_result"
    }
   ],
   "source": [
    "#Query the data id\n",
    "QUERY = '''\n",
    "        SELECT DISTINCT data.data_id,parameter.name, material.name, paper.paper_tag, data.temp_range, data.function\n",
    "        FROM data\n",
    "        JOIN paper ON paper.paper_id = data.paper_id\n",
    "        JOIN material ON material.material_id = data.material_id\n",
    "        JOIN parameter ON parameter.parameter_id = data.parameter_id\n",
    "        WHERE parameter.name = 'Transference Number'\n",
    "        AND \n",
    "        material.fec != 0\n",
    "        AND\n",
    "        paper.paper_tag = 'Landesfeind2019';\n",
    "        '''\n",
    "df = pd.read_sql(QUERY,dfndb)\n",
    "df"
   ]
  },
  {
   "cell_type": "code",
   "execution_count": 4,
   "metadata": {},
   "outputs": [
    {
     "name": "stdout",
     "output_type": "stream",
     "text": [
      "raw_data is function\n",
      "parameter_from_db.py downloaded\n"
     ]
    },
    {
     "data": {
      "image/png": "[encoded data removed]",
      "text/plain": [
       "<Figure size 700x500 with 1 Axes>"
      ]
     },
     "metadata": {
      "needs_background": "light"
     },
     "output_type": "display_data"
    }
   ],
   "source": [
    "#Query the property back\n",
    "QUERY = 'SELECT * FROM data WHERE data_id = 118;'\n",
    "df = pd.read_sql(QUERY,dfndb)\n",
    "\n",
    "csv_list = fn_db.read_data(df) \n",
    "#Reads the first row of a complete data-table pandas dataframe\n",
    "#outputs a CSV as a python list if it exists (for transference it does not)\n",
    "#writes the function file in the current directory as 'parameter_from_db.py'\\\n",
    "\n",
    "import parameter_from_db #import/reload parameter_from_db.py file\n",
    "importlib.reload(parameter_from_db)\n",
    "\n",
    "#Plot the data\n",
    "\n",
    "c_e = np.linspace(100,3000) #SI Units mol/m3\n",
    "T = 298 # K\n",
    "tp = parameter_from_db.function(c_e,T) #run the function just written from the database\n",
    "\n",
    "x = c_e/1000\n",
    "y = tp\n",
    "w = 7\n",
    "h = 5\n",
    "d = 100\n",
    "plt.figure(figsize=(w, h), dpi=d)\n",
    "plt.plot(x,y)\n",
    "plt.ylabel('transference number')\n",
    "plt.xlabel('concentration [mol/L]')\n",
    "plt.show()"
   ]
  },
  {
   "cell_type": "markdown",
   "metadata": {},
   "source": [
    "### 2. Loop to compare solid diffusivities reported for graphite at room temperature"
   ]
  },
  {
   "cell_type": "code",
   "execution_count": 8,
   "metadata": {},
   "outputs": [
    {
     "data": {
      "text/html": [
       "<div>\n",
       "<style scoped>\n",
       "    .dataframe tbody tr th:only-of-type {\n",
       "        vertical-align: middle;\n",
       "    }\n",
       "\n",
       "    .dataframe tbody tr th {\n",
       "        vertical-align: top;\n",
       "    }\n",
       "\n",
       "    .dataframe thead th {\n",
       "        text-align: right;\n",
       "    }\n",
       "</style>\n",
       "<table border=\"1\" class=\"dataframe\">\n",
       "  <thead>\n",
       "    <tr style=\"text-align: right;\">\n",
       "      <th></th>\n",
       "      <th>data_id</th>\n",
       "      <th>name</th>\n",
       "      <th>name</th>\n",
       "      <th>paper_tag</th>\n",
       "      <th>input_range</th>\n",
       "      <th>temp_range</th>\n",
       "      <th>name</th>\n",
       "      <th>function</th>\n",
       "    </tr>\n",
       "  </thead>\n",
       "  <tbody>\n",
       "    <tr>\n",
       "      <th>0</th>\n",
       "      <td>74</td>\n",
       "      <td>Diffusion Coefficient</td>\n",
       "      <td>graphite</td>\n",
       "      <td>Schmalstieg2018</td>\n",
       "      <td>[0, 1]</td>\n",
       "      <td>[250, 313]</td>\n",
       "      <td>GITT</td>\n",
       "      <td>None</td>\n",
       "    </tr>\n",
       "    <tr>\n",
       "      <th>1</th>\n",
       "      <td>69</td>\n",
       "      <td>Diffusion Coefficient</td>\n",
       "      <td>graphite</td>\n",
       "      <td>Ecker2015</td>\n",
       "      <td>[0, 1]</td>\n",
       "      <td>[250, 333]</td>\n",
       "      <td>GITT</td>\n",
       "      <td>None</td>\n",
       "    </tr>\n",
       "    <tr>\n",
       "      <th>2</th>\n",
       "      <td>72</td>\n",
       "      <td>Diffusion Coefficient</td>\n",
       "      <td>graphite</td>\n",
       "      <td>Ecker2015</td>\n",
       "      <td>[0, 1]</td>\n",
       "      <td>[250, 333]</td>\n",
       "      <td>EIS</td>\n",
       "      <td>None</td>\n",
       "    </tr>\n",
       "  </tbody>\n",
       "</table>\n",
       "</div>"
      ],
      "text/plain": [
       "   data_id                   name      name        paper_tag input_range  \\\n",
       "0       74  Diffusion Coefficient  graphite  Schmalstieg2018      [0, 1]   \n",
       "1       69  Diffusion Coefficient  graphite        Ecker2015      [0, 1]   \n",
       "2       72  Diffusion Coefficient  graphite        Ecker2015      [0, 1]   \n",
       "\n",
       "   temp_range  name function  \n",
       "0  [250, 313]  GITT     None  \n",
       "1  [250, 333]  GITT     None  \n",
       "2  [250, 333]   EIS     None  "
      ]
     },
     "execution_count": 8,
     "metadata": {},
     "output_type": "execute_result"
    }
   ],
   "source": [
    "#Query out the properties\n",
    "QUERY = '''\n",
    "        SELECT data.data_id, parameter.name, material.name, paper.paper_tag,data.input_range, data.temp_range, method.name, data.function\n",
    "        FROM data\n",
    "        JOIN paper ON paper.paper_id = data.paper_id\n",
    "        JOIN material ON material.material_id = data.material_id\n",
    "        JOIN parameter ON parameter.parameter_id = data.parameter_id\n",
    "        JOIN data_method ON data_method.data_id = data.data_id\n",
    "        JOIN method ON method.method_id = data_method.method_id\n",
    "        WHERE parameter.name = 'Diffusion Coefficient'\n",
    "        AND\n",
    "        material.class = 'anode'\n",
    "        AND \n",
    "        298 BETWEEN lower(data.temp_range) AND upper(data.temp_range);\n",
    "        '''\n",
    "df = pd.read_sql(QUERY,dfndb)\n",
    "df"
   ]
  },
  {
   "cell_type": "code",
   "execution_count": 9,
   "metadata": {},
   "outputs": [
    {
     "name": "stdout",
     "output_type": "stream",
     "text": [
      "raw_data is array\n",
      "<class 'NoneType'>\n"
     ]
    }
   ],
   "source": [
    "csv_list = fn_db.read_data(diff_df) "
   ]
  },
  {
   "cell_type": "code",
   "execution_count": 11,
   "metadata": {},
   "outputs": [
    {
     "name": "stdout",
     "output_type": "stream",
     "text": [
      "raw_data is array\n",
      "<class 'NoneType'>\n",
      "raw_data is array\n",
      "<class 'NoneType'>\n",
      "raw_data is array\n",
      "<class 'NoneType'>\n"
     ]
    },
    {
     "data": {
      "image/png": "[encoded data removed]",
      "text/plain": [
       "<Figure size 700x500 with 1 Axes>"
      ]
     },
     "metadata": {
      "needs_background": "light"
     },
     "output_type": "display_data"
    }
   ],
   "source": [
    "#Plot it out\n",
    "T = 298\n",
    "id_list = df['data_id'].to_list()\n",
    "w = 7\n",
    "h = 5\n",
    "d = 100\n",
    "color_array = ['red','blue','black','green']\n",
    "plt.figure(figsize=(w, h), dpi=d)\n",
    "\n",
    "for i in range(len(id_list)):\n",
    "    data_id = id_list[i]\n",
    "    c = color_array[i]\n",
    "    QUERY = 'SELECT * FROM data WHERE data_id = %s;' %str(data_id)\n",
    "    diff_df = pd.read_sql(QUERY,dfndb)\n",
    "    csv_list = fn_db.read_data(diff_df) \n",
    "    x_csv = np.array(csv_list)[:,0]\n",
    "    y_csv = np.array(csv_list)[:,1]\n",
    "    plt.plot(x_csv,y_csv*10000,'x',color=c)\n",
    "    \n",
    "plt.ylabel('Diffusion Coefficient [cm2/s]')\n",
    "plt.xlabel('Li Stoich')\n",
    "plt.yscale('log')\n",
    "plt.show()"
   ]
  },
  {
   "cell_type": "markdown",
   "metadata": {},
   "source": [
    "### 3. Loop to compare material OCPs"
   ]
  },
  {
   "cell_type": "code",
   "execution_count": 12,
   "metadata": {},
   "outputs": [
    {
     "data": {
      "text/html": [
       "<div>\n",
       "<style scoped>\n",
       "    .dataframe tbody tr th:only-of-type {\n",
       "        vertical-align: middle;\n",
       "    }\n",
       "\n",
       "    .dataframe tbody tr th {\n",
       "        vertical-align: top;\n",
       "    }\n",
       "\n",
       "    .dataframe thead th {\n",
       "        text-align: right;\n",
       "    }\n",
       "</style>\n",
       "<table border=\"1\" class=\"dataframe\">\n",
       "  <thead>\n",
       "    <tr style=\"text-align: right;\">\n",
       "      <th></th>\n",
       "      <th>data_id</th>\n",
       "      <th>name</th>\n",
       "      <th>name</th>\n",
       "      <th>paper_tag</th>\n",
       "      <th>input_range</th>\n",
       "      <th>temp_range</th>\n",
       "      <th>name</th>\n",
       "      <th>function</th>\n",
       "    </tr>\n",
       "  </thead>\n",
       "  <tbody>\n",
       "    <tr>\n",
       "      <th>0</th>\n",
       "      <td>129</td>\n",
       "      <td>Half Cell OCV</td>\n",
       "      <td>NMC811</td>\n",
       "      <td>Chen2020</td>\n",
       "      <td>[0, 1]</td>\n",
       "      <td>[NaN, NaN]</td>\n",
       "      <td>GITT</td>\n",
       "      <td>[b'\\n', b'd', b'e', b'f', b' ', b'f', b'u', b'...</td>\n",
       "    </tr>\n",
       "    <tr>\n",
       "      <th>1</th>\n",
       "      <td>129</td>\n",
       "      <td>Half Cell OCV</td>\n",
       "      <td>NMC811</td>\n",
       "      <td>Chen2020</td>\n",
       "      <td>[0, 1]</td>\n",
       "      <td>[NaN, NaN]</td>\n",
       "      <td>Quasi OCV</td>\n",
       "      <td>[b'\\n', b'd', b'e', b'f', b' ', b'f', b'u', b'...</td>\n",
       "    </tr>\n",
       "    <tr>\n",
       "      <th>2</th>\n",
       "      <td>3</td>\n",
       "      <td>Half Cell OCV</td>\n",
       "      <td>NCO46</td>\n",
       "      <td>Ecker2015</td>\n",
       "      <td>[0, 1]</td>\n",
       "      <td>[296, 296]</td>\n",
       "      <td>GITT</td>\n",
       "      <td>[b'd', b'e', b'f', b' ', b'f', b'u', b'n', b'c...</td>\n",
       "    </tr>\n",
       "    <tr>\n",
       "      <th>3</th>\n",
       "      <td>52</td>\n",
       "      <td>Half Cell OCV</td>\n",
       "      <td>NMC111</td>\n",
       "      <td>Schmalstieg2018</td>\n",
       "      <td>[0, 1]</td>\n",
       "      <td>[NaN, NaN]</td>\n",
       "      <td>GITT</td>\n",
       "      <td>[b'd', b'e', b'f', b' ', b'f', b'u', b'n', b'c...</td>\n",
       "    </tr>\n",
       "    <tr>\n",
       "      <th>4</th>\n",
       "      <td>52</td>\n",
       "      <td>Half Cell OCV</td>\n",
       "      <td>NMC111</td>\n",
       "      <td>Schmalstieg2018</td>\n",
       "      <td>[0, 1]</td>\n",
       "      <td>[NaN, NaN]</td>\n",
       "      <td>Quasi OCV</td>\n",
       "      <td>[b'd', b'e', b'f', b' ', b'f', b'u', b'n', b'c...</td>\n",
       "    </tr>\n",
       "  </tbody>\n",
       "</table>\n",
       "</div>"
      ],
      "text/plain": [
       "   data_id           name    name        paper_tag input_range  temp_range  \\\n",
       "0      129  Half Cell OCV  NMC811         Chen2020      [0, 1]  [NaN, NaN]   \n",
       "1      129  Half Cell OCV  NMC811         Chen2020      [0, 1]  [NaN, NaN]   \n",
       "2        3  Half Cell OCV   NCO46        Ecker2015      [0, 1]  [296, 296]   \n",
       "3       52  Half Cell OCV  NMC111  Schmalstieg2018      [0, 1]  [NaN, NaN]   \n",
       "4       52  Half Cell OCV  NMC111  Schmalstieg2018      [0, 1]  [NaN, NaN]   \n",
       "\n",
       "        name                                           function  \n",
       "0       GITT  [b'\\n', b'd', b'e', b'f', b' ', b'f', b'u', b'...  \n",
       "1  Quasi OCV  [b'\\n', b'd', b'e', b'f', b' ', b'f', b'u', b'...  \n",
       "2       GITT  [b'd', b'e', b'f', b' ', b'f', b'u', b'n', b'c...  \n",
       "3       GITT  [b'd', b'e', b'f', b' ', b'f', b'u', b'n', b'c...  \n",
       "4  Quasi OCV  [b'd', b'e', b'f', b' ', b'f', b'u', b'n', b'c...  "
      ]
     },
     "execution_count": 12,
     "metadata": {},
     "output_type": "execute_result"
    }
   ],
   "source": [
    "#Query out the properties\n",
    "QUERY = '''\n",
    "        SELECT data.data_id, parameter.name, material.name, paper.paper_tag,data.input_range, data.temp_range, method.name, data.function\n",
    "        FROM data\n",
    "        JOIN paper ON paper.paper_id = data.paper_id\n",
    "        JOIN material ON material.material_id = data.material_id\n",
    "        JOIN parameter ON parameter.parameter_id = data.parameter_id\n",
    "        JOIN data_method ON data_method.data_id = data.data_id\n",
    "        JOIN method ON method.method_id = data_method.method_id\n",
    "        WHERE parameter.name = 'Half Cell OCV'\n",
    "        AND\n",
    "        material.class = 'cathode';\n",
    "        '''\n",
    "df = pd.read_sql(QUERY,dfndb)\n",
    "df"
   ]
  },
  {
   "cell_type": "code",
   "execution_count": 13,
   "metadata": {},
   "outputs": [
    {
     "name": "stdout",
     "output_type": "stream",
     "text": [
      "raw_data is array\n",
      "<class 'memoryview'>\n",
      "parameter_from_db.py downloaded\n",
      "raw_data is array\n",
      "<class 'memoryview'>\n",
      "parameter_from_db.py downloaded\n",
      "raw_data is array\n",
      "<class 'memoryview'>\n",
      "parameter_from_db.py downloaded\n",
      "raw_data is array\n",
      "<class 'memoryview'>\n",
      "parameter_from_db.py downloaded\n",
      "raw_data is array\n",
      "<class 'memoryview'>\n",
      "parameter_from_db.py downloaded\n"
     ]
    },
    {
     "data": {
      "image/png": "[encoded data removed]",
      "text/plain": [
       "<Figure size 700x500 with 1 Axes>"
      ]
     },
     "metadata": {
      "needs_background": "light"
     },
     "output_type": "display_data"
    }
   ],
   "source": [
    "#Plot it out\n",
    "T = 298\n",
    "id_list = df['data_id'].to_list()\n",
    "w = 7\n",
    "h = 5\n",
    "d = 100\n",
    "color_array = ['red','blue','black','green','yellow']\n",
    "plt.figure(figsize=(w, h), dpi=d)\n",
    "\n",
    "for i in range(len(id_list)):\n",
    "    data_id = id_list[i]\n",
    "    c = color_array[i]\n",
    "    QUERY = 'SELECT * FROM data WHERE data_id = %s;' %str(data_id)\n",
    "    diff_df = pd.read_sql(QUERY,dfndb)\n",
    "    csv_list = fn_db.read_data(diff_df) \n",
    "    x_csv = np.array(csv_list)[:,0]\n",
    "    y_csv = np.array(csv_list)[:,1]\n",
    "\n",
    "    import parameter_from_db #import/reload parameter_from_db.py file\n",
    "    importlib.reload(parameter_from_db)\n",
    "    xfit = np.linspace(0,1)\n",
    "    yfit = parameter_from_db.function(xfit) #USE FUNCTION WITH x INPUT TO CALCULATE OCV\n",
    "    plt.plot(x_csv,y_csv,'x',color=c)\n",
    "    plt.plot(xfit,yfit,color=c)\n",
    "plt.ylabel('OCV [V]')\n",
    "plt.xlabel('Li Stoich')\n",
    "plt.show()"
   ]
  }
 ],
 "metadata": {
  "kernelspec": {
   "display_name": "Python 3",
   "language": "python",
   "name": "python3"
  },
  "language_info": {
   "codemirror_mode": {
    "name": "ipython",
    "version": 3
   },
   "file_extension": ".py",
   "mimetype": "text/x-python",
   "name": "python",
   "nbconvert_exporter": "python",
   "pygments_lexer": "ipython3",
   "version": "3.7.3"
  }
 },
 "nbformat": 4,
 "nbformat_minor": 4
}
